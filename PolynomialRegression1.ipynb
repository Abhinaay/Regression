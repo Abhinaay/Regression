{
  "nbformat": 4,
  "nbformat_minor": 0,
  "metadata": {
    "colab": {
      "name": "PolynomialRegression1.ipynb",
      "version": "0.3.2",
      "provenance": [],
      "collapsed_sections": []
    },
    "kernelspec": {
      "name": "python3",
      "display_name": "Python 3"
    }
  },
  "cells": [
    {
      "cell_type": "code",
      "metadata": {
        "id": "sqmwt_pdCQan",
        "colab_type": "code",
        "colab": {}
      },
      "source": [
        "import pandas as pd\n",
        "import matplotlib.pyplot as plt"
      ],
      "execution_count": 0,
      "outputs": []
    },
    {
      "cell_type": "code",
      "metadata": {
        "id": "dbHhL1A6D1TP",
        "colab_type": "code",
        "colab": {}
      },
      "source": [
        "# load data\n",
        "df=pd.read_csv('http://13.234.66.67/summer19/datasets/salary.csv')"
      ],
      "execution_count": 0,
      "outputs": []
    },
    {
      "cell_type": "code",
      "metadata": {
        "id": "fjVOnXJNgQe4",
        "colab_type": "code",
        "colab": {}
      },
      "source": [
        ""
      ],
      "execution_count": 0,
      "outputs": []
    },
    {
      "cell_type": "code",
      "metadata": {
        "id": "pcmn5tYGD-Kr",
        "colab_type": "code",
        "colab": {}
      },
      "source": [
        "# exp\n",
        "exp=df.iloc[:,0:1].values"
      ],
      "execution_count": 0,
      "outputs": []
    },
    {
      "cell_type": "code",
      "metadata": {
        "id": "gjz5-zSvEHCp",
        "colab_type": "code",
        "colab": {}
      },
      "source": [
        "# sal\n",
        "sal=df.iloc[:,1:].values"
      ],
      "execution_count": 0,
      "outputs": []
    },
    {
      "cell_type": "code",
      "metadata": {
        "id": "IeaDVfvREMLY",
        "colab_type": "code",
        "colab": {}
      },
      "source": [
        "# calling linear model just for comparision\n",
        "from sklearn.linear_model import LinearRegression"
      ],
      "execution_count": 0,
      "outputs": []
    },
    {
      "cell_type": "code",
      "metadata": {
        "id": "3dz8WNIhEahb",
        "colab_type": "code",
        "colab": {}
      },
      "source": [
        "lreg1=LinearRegression()"
      ],
      "execution_count": 0,
      "outputs": []
    },
    {
      "cell_type": "code",
      "metadata": {
        "id": "mEIkbcE5Ec5l",
        "colab_type": "code",
        "colab": {}
      },
      "source": [
        "# to transfer data we can call poly transform method\n",
        "from sklearn.preprocessing import PolynomialFeatures"
      ],
      "execution_count": 0,
      "outputs": []
    },
    {
      "cell_type": "code",
      "metadata": {
        "id": "vJSjX6PdEw7h",
        "colab_type": "code",
        "colab": {}
      },
      "source": [
        "# experience transform\n",
        "poly=PolynomialFeatures(degree=15)\n"
      ],
      "execution_count": 0,
      "outputs": []
    },
    {
      "cell_type": "code",
      "metadata": {
        "id": "ze0x1IvnFTC5",
        "colab_type": "code",
        "colab": {}
      },
      "source": [
        "# exp fit\n",
        "newexp=poly.fit_transform(exp)\n"
      ],
      "execution_count": 0,
      "outputs": []
    },
    {
      "cell_type": "code",
      "metadata": {
        "id": "Fu_RAcO9Fe04",
        "colab_type": "code",
        "colab": {}
      },
      "source": [
        "trained1=lreg1.fit(exp,sal)"
      ],
      "execution_count": 0,
      "outputs": []
    },
    {
      "cell_type": "code",
      "metadata": {
        "id": "gR0o6PErFvfs",
        "colab_type": "code",
        "colab": {
          "base_uri": "https://localhost:8080/",
          "height": 300
        },
        "outputId": "615616be-208d-48e1-9d9a-67da6ed5a18d"
      },
      "source": [
        "\n",
        "# creating linear model again\n",
        "plt.xlabel('exp')\n",
        "plt.ylabel('sal')\n",
        "plt.scatter(exp,sal,label='actual',color='orange')\n",
        "plt.plot(exp,trained1.predict(exp),label='predicted')\n",
        "plt.legend()"
      ],
      "execution_count": 85,
      "outputs": [
        {
          "output_type": "execute_result",
          "data": {
            "text/plain": [
              "<matplotlib.legend.Legend at 0x7f6885d0de80>"
            ]
          },
          "metadata": {
            "tags": []
          },
          "execution_count": 85
        },
        {
          "output_type": "display_data",
          "data": {
            "image/png": "[encoded data removed]",
            "text/plain": [
              "<Figure size 432x288 with 1 Axes>"
            ]
          },
          "metadata": {
            "tags": []
          }
        }
      ]
    },
    {
      "cell_type": "code",
      "metadata": {
        "id": "HqC-1ARBGTyG",
        "colab_type": "code",
        "colab": {}
      },
      "source": [
        "# applying new exp data in model\n",
        "lreg2=LinearRegression()\n"
      ],
      "execution_count": 0,
      "outputs": []
    },
    {
      "cell_type": "code",
      "metadata": {
        "id": "SYorK45tG_D_",
        "colab_type": "code",
        "colab": {}
      },
      "source": [
        "# new exp data apply\n",
        "trained2=lreg2.fit(newexp,sal)"
      ],
      "execution_count": 0,
      "outputs": []
    },
    {
      "cell_type": "code",
      "metadata": {
        "id": "3aAuDZ_EHKBp",
        "colab_type": "code",
        "colab": {
          "base_uri": "https://localhost:8080/",
          "height": 300
        },
        "outputId": "c490dbfd-45b8-4db4-9031-88c599275076"
      },
      "source": [
        "# creating linear model again\n",
        "plt.xlabel('exp')\n",
        "plt.ylabel('sal')\n",
        "plt.scatter(exp,sal,label='actual',color='orange')\n",
        "plt.plot(exp,trained2.predict(newexp),label='newmodel')\n",
        "plt.legend()"
      ],
      "execution_count": 88,
      "outputs": [
        {
          "output_type": "execute_result",
          "data": {
            "text/plain": [
              "<matplotlib.legend.Legend at 0x7f6885ce9fd0>"
            ]
          },
          "metadata": {
            "tags": []
          },
          "execution_count": 88
        },
        {
          "output_type": "display_data",
          "data": {
            "image/png": "[encoded data removed]",
            "text/plain": [
              "<Figure size 432x288 with 1 Axes>"
            ]
          },
          "metadata": {
            "tags": []
          }
        }
      ]
    },
    {
      "cell_type": "code",
      "metadata": {
        "id": "pw44SRRVHa3M",
        "colab_type": "code",
        "colab": {}
      },
      "source": [
        ""
      ],
      "execution_count": 0,
      "outputs": []
    }
  ]
}