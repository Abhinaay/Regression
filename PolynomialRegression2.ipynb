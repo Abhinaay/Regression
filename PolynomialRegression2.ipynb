{
  "nbformat": 4,
  "nbformat_minor": 0,
  "metadata": {
    "colab": {
      "name": "PolynomialRegression2.ipynb",
      "version": "0.3.2",
      "provenance": [],
      "collapsed_sections": []
    },
    "kernelspec": {
      "name": "python3",
      "display_name": "Python 3"
    }
  },
  "cells": [
    {
      "cell_type": "code",
      "metadata": {
        "id": "cvWTcX7wNvnK",
        "colab_type": "code",
        "colab": {}
      },
      "source": [
        "import pandas as pd\n",
        "import matplotlib.pyplot as plt"
      ],
      "execution_count": 0,
      "outputs": []
    },
    {
      "cell_type": "code",
      "metadata": {
        "id": "4ge87TWiN9Xh",
        "colab_type": "code",
        "colab": {}
      },
      "source": [
        "df=pd.read_csv('http://13.234.66.67/summer19/datasets/pos_sal.csv')"
      ],
      "execution_count": 0,
      "outputs": []
    },
    {
      "cell_type": "code",
      "metadata": {
        "id": "vAy6wnUKOLwB",
        "colab_type": "code",
        "colab": {}
      },
      "source": [
        "# for poly model\n",
        "x=df.iloc[:,1:2].values"
      ],
      "execution_count": 0,
      "outputs": []
    },
    {
      "cell_type": "code",
      "metadata": {
        "id": "Uptz_b_mOXJw",
        "colab_type": "code",
        "colab": {}
      },
      "source": [
        "# salary\n",
        "y=df.iloc[:,2:].values"
      ],
      "execution_count": 0,
      "outputs": []
    },
    {
      "cell_type": "code",
      "metadata": {
        "id": "z9HmhCEgOYOc",
        "colab_type": "code",
        "colab": {}
      },
      "source": [
        "# apply linear regression first\n",
        "from sklearn.linear_model import LinearRegression"
      ],
      "execution_count": 0,
      "outputs": []
    },
    {
      "cell_type": "code",
      "metadata": {
        "id": "IXnkDY1bOwhP",
        "colab_type": "code",
        "colab": {}
      },
      "source": [
        "lreg1=LinearRegression()"
      ],
      "execution_count": 0,
      "outputs": []
    },
    {
      "cell_type": "code",
      "metadata": {
        "id": "iF-2hqxVOzEd",
        "colab_type": "code",
        "colab": {}
      },
      "source": [
        "trained1=lreg1.fit(x,y)"
      ],
      "execution_count": 0,
      "outputs": []
    },
    {
      "cell_type": "code",
      "metadata": {
        "id": "JJoYOgMmO6C1",
        "colab_type": "code",
        "colab": {
          "base_uri": "https://localhost:8080/",
          "height": 300
        },
        "outputId": "402be028-97c1-41d9-a8c3-102ceeda0479"
      },
      "source": [
        "#plotting graph\n",
        "plt.xlabel('position')\n",
        "plt.ylabel('salary')\n",
        "plt.scatter(x,y,label='actual',color='orange')\n",
        "plt.plot(x,trained1.predict(x),label='predicted')"
      ],
      "execution_count": 11,
      "outputs": [
        {
          "output_type": "execute_result",
          "data": {
            "text/plain": [
              "[<matplotlib.lines.Line2D at 0x7f34b0954978>]"
            ]
          },
          "metadata": {
            "tags": []
          },
          "execution_count": 11
        },
        {
          "output_type": "display_data",
          "data": {
            "image/png": "[encoded data removed]",
            "text/plain": [
              "<Figure size 432x288 with 1 Axes>"
            ]
          },
          "metadata": {
            "tags": []
          }
        }
      ]
    },
    {
      "cell_type": "code",
      "metadata": {
        "id": "Gdl_OHsUPcQ7",
        "colab_type": "code",
        "colab": {}
      },
      "source": [
        "# now exponential poly features increase\n",
        "from sklearn.preprocessing import PolynomialFeatures"
      ],
      "execution_count": 0,
      "outputs": []
    },
    {
      "cell_type": "code",
      "metadata": {
        "id": "taLyA1avP7h_",
        "colab_type": "code",
        "colab": {}
      },
      "source": [
        "# second degree poly feature\n",
        "poly=PolynomialFeatures(degree=2)\n"
      ],
      "execution_count": 0,
      "outputs": []
    },
    {
      "cell_type": "code",
      "metadata": {
        "id": "sC5ifqE8QEc5",
        "colab_type": "code",
        "colab": {}
      },
      "source": [
        "newx=poly.fit_transform(x)"
      ],
      "execution_count": 0,
      "outputs": []
    },
    {
      "cell_type": "code",
      "metadata": {
        "id": "4hfemEEaQUiD",
        "colab_type": "code",
        "colab": {}
      },
      "source": [
        "lreg2=LinearRegression()"
      ],
      "execution_count": 0,
      "outputs": []
    },
    {
      "cell_type": "code",
      "metadata": {
        "id": "C_wmkd51QY7M",
        "colab_type": "code",
        "colab": {}
      },
      "source": [
        "trained2=lreg2.fit(newx,y)"
      ],
      "execution_count": 0,
      "outputs": []
    },
    {
      "cell_type": "code",
      "metadata": {
        "id": "-tj4KLE8QOOz",
        "colab_type": "code",
        "colab": {
          "base_uri": "https://localhost:8080/",
          "height": 300
        },
        "outputId": "fc89b576-725e-47d2-8ae6-b77c7a058071"
      },
      "source": [
        "#plotting graph\n",
        "plt.xlabel('position')\n",
        "plt.ylabel('salary')\n",
        "plt.scatter(x,y,label='actual',color='orange')\n",
        "plt.plot(x,trained2.predict(newx),label='predicted')"
      ],
      "execution_count": 18,
      "outputs": [
        {
          "output_type": "execute_result",
          "data": {
            "text/plain": [
              "[<matplotlib.lines.Line2D at 0x7f34b08eecf8>]"
            ]
          },
          "metadata": {
            "tags": []
          },
          "execution_count": 18
        },
        {
          "output_type": "display_data",
          "data": {
            "image/png": "[encoded data removed]",
            "text/plain": [
              "<Figure size 432x288 with 1 Axes>"
            ]
          },
          "metadata": {
            "tags": []
          }
        }
      ]
    },
    {
      "cell_type": "code",
      "metadata": {
        "id": "fsGojcRGQiYg",
        "colab_type": "code",
        "colab": {}
      },
      "source": [
        "# 9 degree poly feature\n",
        "poly2=PolynomialFeatures(degree=9)\n"
      ],
      "execution_count": 0,
      "outputs": []
    },
    {
      "cell_type": "code",
      "metadata": {
        "id": "sDJ8o9g4Q71L",
        "colab_type": "code",
        "colab": {}
      },
      "source": [
        "newx1=poly2.fit_transform(x)"
      ],
      "execution_count": 0,
      "outputs": []
    },
    {
      "cell_type": "code",
      "metadata": {
        "id": "BQ3qAE3tRAMJ",
        "colab_type": "code",
        "colab": {}
      },
      "source": [
        "lreg3=LinearRegression()"
      ],
      "execution_count": 0,
      "outputs": []
    },
    {
      "cell_type": "code",
      "metadata": {
        "colab_type": "code",
        "id": "w2QboUrPRDgv",
        "colab": {}
      },
      "source": [
        "trained3=lreg3.fit(newx1,y)"
      ],
      "execution_count": 0,
      "outputs": []
    },
    {
      "cell_type": "code",
      "metadata": {
        "colab_type": "code",
        "outputId": "264ebd30-f710-48d5-d716-9a71d9766597",
        "id": "NHKDvQ4bRDhb",
        "colab": {
          "base_uri": "https://localhost:8080/",
          "height": 300
        }
      },
      "source": [
        "#plotting graph\n",
        "plt.xlabel('position')\n",
        "plt.ylabel('salary')\n",
        "plt.scatter(x,y,label='actual',color='orange')\n",
        "plt.plot(x,trained3.predict(newx1),label='predicted')"
      ],
      "execution_count": 27,
      "outputs": [
        {
          "output_type": "execute_result",
          "data": {
            "text/plain": [
              "[<matplotlib.lines.Line2D at 0x7f34b082d630>]"
            ]
          },
          "metadata": {
            "tags": []
          },
          "execution_count": 27
        },
        {
          "output_type": "display_data",
          "data": {
            "image/png": "[encoded data removed]",
            "text/plain": [
              "<Figure size 432x288 with 1 Axes>"
            ]
          },
          "metadata": {
            "tags": []
          }
        }
      ]
    },
    {
      "cell_type": "code",
      "metadata": {
        "id": "uPkQMsr0RLpR",
        "colab_type": "code",
        "colab": {}
      },
      "source": [
        ""
      ],
      "execution_count": 0,
      "outputs": []
    },
    {
      "cell_type": "code",
      "metadata": {
        "id": "qFUCDmuFR2Se",
        "colab_type": "code",
        "colab": {}
      },
      "source": [
        ""
      ],
      "execution_count": 0,
      "outputs": []
    },
    {
      "cell_type": "code",
      "metadata": {
        "id": "n7trYxFUR4QR",
        "colab_type": "code",
        "colab": {}
      },
      "source": [
        ""
      ],
      "execution_count": 0,
      "outputs": []
    }
  ]
}